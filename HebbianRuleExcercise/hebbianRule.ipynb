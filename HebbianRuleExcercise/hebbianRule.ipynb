{
 "cells": [
  {
   "cell_type": "code",
   "execution_count": 1,
   "metadata": {},
   "outputs": [],
   "source": [
    "import numpy as N\n",
    "import pylab as P"
   ]
  },
  {
   "cell_type": "code",
   "execution_count": 24,
   "metadata": {},
   "outputs": [],
   "source": [
    "def _blob(x,y,area,colour):\n",
    "    \"\"\"\n",
    "    Draws a square-shaped blob with the given area (< 1) at\n",
    "    the given coordinates.\n",
    "    \"\"\"\n",
    "    hs = N.sqrt(area) / 2\n",
    "    xcorners = N.array([x - hs, x + hs, x + hs, x - hs])\n",
    "    ycorners = N.array([y - hs, y - hs, y + hs, y + hs])\n",
    "    P.fill(xcorners, ycorners, colour, edgecolor=colour)\n",
    "\n",
    "def hinton(W, maxWeight=None):\n",
    "    \"\"\"\n",
    "    Draws a Hinton diagram for visualizing a weight matrix.\n",
    "    Temporarily disables matplotlib interactive mode if it is on,\n",
    "    otherwise this takes forever.\n",
    "    \"\"\"\n",
    "    reenable = False\n",
    "    if P.isinteractive():\n",
    "        P.ioff()\n",
    "    P.clf()\n",
    "    height, width = W.shape\n",
    "    if not maxWeight:\n",
    "        maxWeight = 2**N.ceil(N.log(N.max(N.abs(W)))/N.log(2))\n",
    "\n",
    "    P.fill(N.array([0,width,width,0]),N.array([0,0,height,height]),'gray')\n",
    "    P.axis('off')\n",
    "    P.axis('equal')\n",
    "    for x in range(width):\n",
    "        for y in range(height):\n",
    "            _x = x+1\n",
    "            _y = y+1\n",
    "            w = W[y,x]\n",
    "            if w > 0:\n",
    "                _blob(_x - 0.5, height - _y + 0.5, min(1,w/maxWeight),'white')\n",
    "            elif w < 0:\n",
    "                _blob(_x - 0.5, height - _y + 0.5, min(1,-w/maxWeight),'black')\n",
    "    if reenable:\n",
    "        P.ion()\n",
    "    P.show()"
   ]
  },
  {
   "cell_type": "code",
   "execution_count": 16,
   "metadata": {},
   "outputs": [
    {
     "name": "stdout",
     "output_type": "stream",
     "text": [
      "Matrix (x)\n",
      "[[1 0 0 1]\n",
      " [0 1 0 0]\n",
      " [0 0 1 0]]\n",
      "Matrix (y)\n",
      "[[1 0 0]\n",
      " [0 1 0]\n",
      " [0 0 1]]\n",
      "3\n",
      "4\n",
      "3\n",
      "[[0.001 0.    0.    0.001]\n",
      " [0.    0.001 0.    0.   ]\n",
      " [0.    0.    0.001 0.   ]]\n"
     ]
    }
   ],
   "source": [
    "# x is the input matrix with size (3, 4)\n",
    "# This means there are 3 input patterns (rows) and 4 neurons in the input (columns).\n",
    "x = N.array([[1,0,0,1],\n",
    "             [0,1,0,0],\n",
    "             [0,0,1,0]])\n",
    "# y is the output matrix with size (3, 3)\n",
    "# This means there are 3 output patterns (rows) and 3 neurons in the output (columns).\n",
    "y = N.array([[1,0,0],\n",
    "             [0,1,0],\n",
    "             [0,0,1]])\n",
    "\n",
    "print(\"Matrix (x)\")\n",
    "print(x)\n",
    "\n",
    "print(\"Matrix (y)\")\n",
    "print(y)\n",
    "\n",
    "# number of input patterns (rows of x)\n",
    "N_pattern = x.shape[0]\n",
    "print(N_pattern)\n",
    "\n",
    "# number of neurons in the input (columns of x)\n",
    "N_input = x.shape[1]\n",
    "print(N_input)\n",
    "\n",
    "# number of neurons in the output (columns of y)\n",
    "N_output = y.shape[1]\n",
    "print(N_output)\n",
    "\n",
    "# learning rate for the algorithm\n",
    "learning_rate = 0.001\n",
    "\n",
    "# weights matrix that will be updated during training.\n",
    "# Its shape is (N_output, N_input) (3x4).\n",
    "# Initialize the weights to zero with N.zeros.\n",
    "W = N.zeros((N_output, N_input))\n",
    "\n",
    "# Iterate over the 3 input patterns\n",
    "for k in range(N_pattern):\n",
    "  # Iterate over each output neuron\n",
    "  for j in range(N_output):\n",
    "    # Iterate over each input neuron\n",
    "    for i in range(N_input):\n",
    "        # For each combination of input x[k,i] and output y[k,j]\n",
    "        # calculate the contribution to the weight update.\n",
    "        W[j, i] +=  learning_rate * x[k,i] * y[k,j]\n",
    "\n",
    "        # the weight update follows a learning rule\n",
    "        # where the weight between an input neuron and an output neuron\n",
    "        # is increased based on the correlation between the input and output.\n",
    "        \n",
    "print(W)"
   ]
  },
  {
   "cell_type": "code",
   "execution_count": 22,
   "metadata": {},
   "outputs": [
    {
     "name": "stdout",
     "output_type": "stream",
     "text": [
      "[[0.002 0.    0.   ]\n",
      " [0.    0.001 0.   ]\n",
      " [0.    0.    0.001]]\n"
     ]
    }
   ],
   "source": [
    "Y_test = W @ x.T\n",
    "print(Y_test)"
   ]
  },
  {
   "cell_type": "code",
   "execution_count": 25,
   "metadata": {},
   "outputs": [
    {
     "data": {
      "image/png": "[encoded data removed]",
      "text/plain": [
       "<Figure size 640x480 with 1 Axes>"
      ]
     },
     "metadata": {},
     "output_type": "display_data"
    }
   ],
   "source": [
    "hinton(W)"
   ]
  }
 ],
 "metadata": {
  "kernelspec": {
   "display_name": "venvHebbian",
   "language": "python",
   "name": "python3"
  },
  "language_info": {
   "codemirror_mode": {
    "name": "ipython",
    "version": 3
   },
   "file_extension": ".py",
   "mimetype": "text/x-python",
   "name": "python",
   "nbconvert_exporter": "python",
   "pygments_lexer": "ipython3",
   "version": "3.11.9"
  }
 },
 "nbformat": 4,
 "nbformat_minor": 2
}
